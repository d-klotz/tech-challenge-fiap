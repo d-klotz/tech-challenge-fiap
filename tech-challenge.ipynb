{
 "cells": [
  {
   "metadata": {},
   "cell_type": "markdown",
   "source": [
    "# Insurance charges dataset\n",
    "### This dataset contains details of individuals and their insurance charges"
   ],
   "id": "42dcefdf24d69cce"
  },
  {
   "cell_type": "code",
   "id": "initial_id",
   "metadata": {
    "collapsed": true,
    "ExecuteTime": {
     "end_time": "2024-09-28T13:53:36.267499Z",
     "start_time": "2024-09-28T13:53:36.259097Z"
    }
   },
   "source": [
    "import pandas as pd\n",
    "\n",
    "dataset = pd.read_csv(\"data/fake-insurance-data.csv\")\n",
    "dataset.head()"
   ],
   "outputs": [
    {
     "data": {
      "text/plain": [
       "    age     sex   bmi  children smoker     region   charges\n",
       "0  56.0    male  28.1         1     no  northeast  42919.17\n",
       "1  60.0  female  33.7         4     no  southwest  43177.81\n",
       "2  18.0  female  30.6         3     no  southwest  26903.57\n",
       "3  58.0    male  38.3         3     no  southeast  21060.33\n",
       "4  26.0    male  31.9         4     no  southeast  32558.15"
      ],
      "text/html": [
       "<div>\n",
       "<style scoped>\n",
       "    .dataframe tbody tr th:only-of-type {\n",
       "        vertical-align: middle;\n",
       "    }\n",
       "\n",
       "    .dataframe tbody tr th {\n",
       "        vertical-align: top;\n",
       "    }\n",
       "\n",
       "    .dataframe thead th {\n",
       "        text-align: right;\n",
       "    }\n",
       "</style>\n",
       "<table border=\"1\" class=\"dataframe\">\n",
       "  <thead>\n",
       "    <tr style=\"text-align: right;\">\n",
       "      <th></th>\n",
       "      <th>age</th>\n",
       "      <th>sex</th>\n",
       "      <th>bmi</th>\n",
       "      <th>children</th>\n",
       "      <th>smoker</th>\n",
       "      <th>region</th>\n",
       "      <th>charges</th>\n",
       "    </tr>\n",
       "  </thead>\n",
       "  <tbody>\n",
       "    <tr>\n",
       "      <th>0</th>\n",
       "      <td>56.0</td>\n",
       "      <td>male</td>\n",
       "      <td>28.1</td>\n",
       "      <td>1</td>\n",
       "      <td>no</td>\n",
       "      <td>northeast</td>\n",
       "      <td>42919.17</td>\n",
       "    </tr>\n",
       "    <tr>\n",
       "      <th>1</th>\n",
       "      <td>60.0</td>\n",
       "      <td>female</td>\n",
       "      <td>33.7</td>\n",
       "      <td>4</td>\n",
       "      <td>no</td>\n",
       "      <td>southwest</td>\n",
       "      <td>43177.81</td>\n",
       "    </tr>\n",
       "    <tr>\n",
       "      <th>2</th>\n",
       "      <td>18.0</td>\n",
       "      <td>female</td>\n",
       "      <td>30.6</td>\n",
       "      <td>3</td>\n",
       "      <td>no</td>\n",
       "      <td>southwest</td>\n",
       "      <td>26903.57</td>\n",
       "    </tr>\n",
       "    <tr>\n",
       "      <th>3</th>\n",
       "      <td>58.0</td>\n",
       "      <td>male</td>\n",
       "      <td>38.3</td>\n",
       "      <td>3</td>\n",
       "      <td>no</td>\n",
       "      <td>southeast</td>\n",
       "      <td>21060.33</td>\n",
       "    </tr>\n",
       "    <tr>\n",
       "      <th>4</th>\n",
       "      <td>26.0</td>\n",
       "      <td>male</td>\n",
       "      <td>31.9</td>\n",
       "      <td>4</td>\n",
       "      <td>no</td>\n",
       "      <td>southeast</td>\n",
       "      <td>32558.15</td>\n",
       "    </tr>\n",
       "  </tbody>\n",
       "</table>\n",
       "</div>"
      ]
     },
     "execution_count": 4,
     "metadata": {},
     "output_type": "execute_result"
    }
   ],
   "execution_count": 4
  },
  {
   "metadata": {},
   "cell_type": "markdown",
   "source": "### Let's understand the dataset",
   "id": "4e1b2e35a381ee55"
  },
  {
   "metadata": {
    "ExecuteTime": {
     "end_time": "2024-09-28T13:53:37.943749Z",
     "start_time": "2024-09-28T13:53:37.941121Z"
    }
   },
   "cell_type": "code",
   "source": "dataset.shape",
   "id": "76b2e771a9990a29",
   "outputs": [
    {
     "data": {
      "text/plain": [
       "(299, 7)"
      ]
     },
     "execution_count": 5,
     "metadata": {},
     "output_type": "execute_result"
    }
   ],
   "execution_count": 5
  },
  {
   "metadata": {
    "ExecuteTime": {
     "end_time": "2024-09-28T13:53:39.285435Z",
     "start_time": "2024-09-28T13:53:39.279884Z"
    }
   },
   "cell_type": "code",
   "source": "dataset.info()",
   "id": "2764aa21e5b2eb8c",
   "outputs": [
    {
     "name": "stdout",
     "output_type": "stream",
     "text": [
      "<class 'pandas.core.frame.DataFrame'>\n",
      "RangeIndex: 299 entries, 0 to 298\n",
      "Data columns (total 7 columns):\n",
      " #   Column    Non-Null Count  Dtype  \n",
      "---  ------    --------------  -----  \n",
      " 0   age       297 non-null    float64\n",
      " 1   sex       298 non-null    object \n",
      " 2   bmi       294 non-null    float64\n",
      " 3   children  299 non-null    int64  \n",
      " 4   smoker    299 non-null    object \n",
      " 5   region    297 non-null    object \n",
      " 6   charges   297 non-null    float64\n",
      "dtypes: float64(3), int64(1), object(3)\n",
      "memory usage: 16.5+ KB\n"
     ]
    }
   ],
   "execution_count": 6
  },
  {
   "metadata": {
    "ExecuteTime": {
     "end_time": "2024-09-28T13:55:36.930901Z",
     "start_time": "2024-09-28T13:55:36.921301Z"
    }
   },
   "cell_type": "code",
   "source": "dataset.describe()",
   "id": "b2cc2403203d268d",
   "outputs": [
    {
     "data": {
      "text/plain": [
       "              age         bmi    children       charges\n",
       "count  297.000000  294.000000  299.000000    297.000000\n",
       "mean    39.232323   28.975170    2.083612  31934.301785\n",
       "std     12.483904    6.477725    1.441138   7786.548702\n",
       "min     18.000000   15.200000    0.000000  20178.250000\n",
       "25%     28.000000   23.225000    1.000000  25256.120000\n",
       "50%     38.000000   29.150000    2.000000  31312.050000\n",
       "75%     49.000000   34.675000    3.000000  38679.230000\n",
       "max     64.000000   39.900000    7.000000  49605.330000"
      ],
      "text/html": [
       "<div>\n",
       "<style scoped>\n",
       "    .dataframe tbody tr th:only-of-type {\n",
       "        vertical-align: middle;\n",
       "    }\n",
       "\n",
       "    .dataframe tbody tr th {\n",
       "        vertical-align: top;\n",
       "    }\n",
       "\n",
       "    .dataframe thead th {\n",
       "        text-align: right;\n",
       "    }\n",
       "</style>\n",
       "<table border=\"1\" class=\"dataframe\">\n",
       "  <thead>\n",
       "    <tr style=\"text-align: right;\">\n",
       "      <th></th>\n",
       "      <th>age</th>\n",
       "      <th>bmi</th>\n",
       "      <th>children</th>\n",
       "      <th>charges</th>\n",
       "    </tr>\n",
       "  </thead>\n",
       "  <tbody>\n",
       "    <tr>\n",
       "      <th>count</th>\n",
       "      <td>297.000000</td>\n",
       "      <td>294.000000</td>\n",
       "      <td>299.000000</td>\n",
       "      <td>297.000000</td>\n",
       "    </tr>\n",
       "    <tr>\n",
       "      <th>mean</th>\n",
       "      <td>39.232323</td>\n",
       "      <td>28.975170</td>\n",
       "      <td>2.083612</td>\n",
       "      <td>31934.301785</td>\n",
       "    </tr>\n",
       "    <tr>\n",
       "      <th>std</th>\n",
       "      <td>12.483904</td>\n",
       "      <td>6.477725</td>\n",
       "      <td>1.441138</td>\n",
       "      <td>7786.548702</td>\n",
       "    </tr>\n",
       "    <tr>\n",
       "      <th>min</th>\n",
       "      <td>18.000000</td>\n",
       "      <td>15.200000</td>\n",
       "      <td>0.000000</td>\n",
       "      <td>20178.250000</td>\n",
       "    </tr>\n",
       "    <tr>\n",
       "      <th>25%</th>\n",
       "      <td>28.000000</td>\n",
       "      <td>23.225000</td>\n",
       "      <td>1.000000</td>\n",
       "      <td>25256.120000</td>\n",
       "    </tr>\n",
       "    <tr>\n",
       "      <th>50%</th>\n",
       "      <td>38.000000</td>\n",
       "      <td>29.150000</td>\n",
       "      <td>2.000000</td>\n",
       "      <td>31312.050000</td>\n",
       "    </tr>\n",
       "    <tr>\n",
       "      <th>75%</th>\n",
       "      <td>49.000000</td>\n",
       "      <td>34.675000</td>\n",
       "      <td>3.000000</td>\n",
       "      <td>38679.230000</td>\n",
       "    </tr>\n",
       "    <tr>\n",
       "      <th>max</th>\n",
       "      <td>64.000000</td>\n",
       "      <td>39.900000</td>\n",
       "      <td>7.000000</td>\n",
       "      <td>49605.330000</td>\n",
       "    </tr>\n",
       "  </tbody>\n",
       "</table>\n",
       "</div>"
      ]
     },
     "execution_count": 7,
     "metadata": {},
     "output_type": "execute_result"
    }
   ],
   "execution_count": 7
  },
  {
   "metadata": {
    "ExecuteTime": {
     "end_time": "2024-09-28T13:59:51.729329Z",
     "start_time": "2024-09-28T13:59:51.397726Z"
    }
   },
   "cell_type": "code",
   "source": [
    "%matplotlib inline\n",
    "import matplotlib.pyplot as plt\n",
    "dataset.hist(bins=50, figsize=(20,15))"
   ],
   "id": "159bd045a1b0b9cb",
   "outputs": [
    {
     "data": {
      "text/plain": [
       "array([[<Axes: title={'center': 'age'}>, <Axes: title={'center': 'bmi'}>],\n",
       "       [<Axes: title={'center': 'children'}>,\n",
       "        <Axes: title={'center': 'charges'}>]], dtype=object)"
      ]
     },
     "execution_count": 8,
     "metadata": {},
     "output_type": "execute_result"
    },
    {
     "data": {
      "text/plain": [
       "<Figure size 2000x1500 with 4 Axes>"
      ],
      "image/png": "[encoded data removed]"
     },
     "metadata": {},
     "output_type": "display_data"
    }
   ],
   "execution_count": 8
  }
 ],
 "metadata": {
  "kernelspec": {
   "display_name": "Python 3",
   "language": "python",
   "name": "python3"
  },
  "language_info": {
   "codemirror_mode": {
    "name": "ipython",
    "version": 2
   },
   "file_extension": ".py",
   "mimetype": "text/x-python",
   "name": "python",
   "nbconvert_exporter": "python",
   "pygments_lexer": "ipython2",
   "version": "2.7.6"
  }
 },
 "nbformat": 4,
 "nbformat_minor": 5
}
